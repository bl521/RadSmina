{
 "cells": [
  {
   "cell_type": "code",
   "execution_count": 1,
   "metadata": {},
   "outputs": [
    {
     "name": "stderr",
     "output_type": "stream",
     "text": [
      "<frozen importlib._bootstrap>:241: RuntimeWarning: to-Python converter for std::vector<int, std::allocator<int> > already registered; second conversion method ignored.\n",
      "<frozen importlib._bootstrap>:241: RuntimeWarning: to-Python converter for std::vector<double, std::allocator<double> > already registered; second conversion method ignored.\n",
      "<frozen importlib._bootstrap>:241: RuntimeWarning: to-Python converter for std::vector<std::__cxx11::basic_string<char, std::char_traits<char>, std::allocator<char> >, std::allocator<std::__cxx11::basic_string<char, std::char_traits<char>, std::allocator<char> > > > already registered; second conversion method ignored.\n",
      "<frozen importlib._bootstrap>:241: RuntimeWarning: to-Python converter for std::vector<unsigned long, std::allocator<unsigned long> > already registered; second conversion method ignored.\n",
      "<frozen importlib._bootstrap>:241: RuntimeWarning: to-Python converter for std::vector<std::vector<double, std::allocator<double> >, std::allocator<std::vector<double, std::allocator<double> > > > already registered; second conversion method ignored.\n",
      "<frozen importlib._bootstrap>:241: RuntimeWarning: to-Python converter for boost::python::detail::container_element<std::vector<std::vector<double, std::allocator<double> >, std::allocator<std::vector<double, std::allocator<double> > > >, unsigned long, boost::python::detail::final_vector_derived_policies<std::vector<std::vector<double, std::allocator<double> >, std::allocator<std::vector<double, std::allocator<double> > > >, false> > already registered; second conversion method ignored.\n",
      "<frozen importlib._bootstrap>:241: RuntimeWarning: to-Python converter for std::pair<double, double> already registered; second conversion method ignored.\n"
     ]
    }
   ],
   "source": [
    "import pickle\n",
    "import sys\n",
    "import inspect\n",
    "import numpy as np\n",
    "import matplotlib.pyplot as plt\n",
    "from tqdm import tqdm\n",
    "from rdkit import Chem, DataStructs, RDLogger\n",
    "from rdkit.Chem import AllChem\n",
    "\n",
    "sys.path.insert(0, \"/rds/general/user/bl521/home/RadSmina/rad/\")\n",
    "import rad.construction\n",
    "from rad.construction import getGraphs\n",
    "from rad.traversal import traverseHNSW\n",
    "\n",
    "# Disable rdkit error logging to keep output clean\n",
    "RDLogger.DisableLog('rdApp.*')  "
   ]
  },
  {
   "cell_type": "markdown",
   "metadata": {},
   "source": [
    "### Load the SMILES dataset"
   ]
  },
  {
   "cell_type": "code",
   "execution_count": 2,
   "metadata": {},
   "outputs": [],
   "source": [
    "input_pickle = \"goldilocks_smiles.pkl\"\n",
    "with open(input_pickle, 'rb') as f:\n",
    "    dudez_data = pickle.load(f)"
   ]
  },
  {
   "cell_type": "code",
   "execution_count": 3,
   "metadata": {},
   "outputs": [
    {
     "name": "stdout",
     "output_type": "stream",
     "text": [
      "Loaded 132884 molecules from goldilocks_smiles.pkl.\n"
     ]
    }
   ],
   "source": [
    "print(f\"Loaded {len(dudez_data)} molecules from {input_pickle}.\")"
   ]
  },
  {
   "cell_type": "markdown",
   "metadata": {},
   "source": [
    "### Set parameters for fingerprints and generate them"
   ]
  },
  {
   "cell_type": "code",
   "execution_count": 4,
   "metadata": {},
   "outputs": [],
   "source": [
    "FP_LENGTH = 1024\n",
    "FP_RADIUS = 2"
   ]
  },
  {
   "cell_type": "code",
   "execution_count": 5,
   "metadata": {},
   "outputs": [],
   "source": [
    "failed_smiles = []  # List to store failed SMILES\n",
    "successful_count = 0  # Counter for successful molecules"
   ]
  },
  {
   "cell_type": "code",
   "execution_count": 6,
   "metadata": {},
   "outputs": [
    {
     "name": "stderr",
     "output_type": "stream",
     "text": [
      "Generating Fingeprints: 100%|██████████| 132884/132884 [00:27<00:00, 4783.74it/s]\n"
     ]
    },
    {
     "name": "stdout",
     "output_type": "stream",
     "text": [
      "Total SMILES processed: 132884\n",
      "Successful molecule generation: 132881\n",
      "Failed SMILES count: 3\n",
      "Failed SMILES examples: ['1=CC=C(CCC[N@@H+]2C[C@@H]3CC[C@H](C2)N(C[C@H]2[C@@H]4C[NH2+]C[C@H]24)C3)C=C1', '=C(NCC1=CC=CN=C1)[C@H]1[C@@H]2C[N@@H+](C[C@@H]3C[C@H]4C=C[C@@H]3C4)C[C@@H]21', '[C@H]2[C@H]3C=C[C@H](C3)[C@@H]2C(=O)N1NC1=CC=C([N+](=O)[O-])C=C1[N+](=O)[O-]']\n"
     ]
    }
   ],
   "source": [
    "dudez_fps = [] ## To store molecular fingerprints in a compact binary form (packed bits).\n",
    "node_id = 0 ## A unique identifier for each molecule (node).\n",
    "\n",
    "# Store a mapping from node_id -> zID\n",
    "id_to_zid = []\n",
    "\n",
    "for zid in tqdm(dudez_data, total=len(dudez_data), desc=\"Generating Fingeprints\"):\n",
    "    smi = dudez_data[zid] ## SMILES string for the molecule.\n",
    "\n",
    "    # Some smiles will fail molecule generation. We just skip them\n",
    "    mol = Chem.MolFromSmiles(smi) ## The RDKit library converts the SMILES string into a molecular object\n",
    "    if mol is None:\n",
    "        ## Log failed SMILES\n",
    "        failed_smiles.append(smi)\n",
    "        continue\n",
    "    \n",
    "    # If successful, process as usual\n",
    "    successful_count += 1\n",
    "    # Convert rdkit bit vect fingerprint to numpy array\n",
    "    arr = np.zeros((1,), dtype=np.uint8)\n",
    "    fp = AllChem.GetMorganFingerprintAsBitVect(mol, radius=FP_RADIUS, nBits=FP_LENGTH) ## Generate Molecular Fingerprints\n",
    "    DataStructs.ConvertToNumpyArray(fp, arr) ## Convert Morgan Fingerprints to NumPy Array\n",
    "\n",
    "    # IMPORTANT: Make sure to pack bit fingerprints - it vastly speeds up HNSW construction\n",
    "    dudez_fps.append(np.packbits(arr)) \n",
    "    ## Groups every 8 bits into a single byte.\n",
    "    ## Reduces the length of the array by a factor of 8 (e.g., from 1024 bits to 128 bytes).\n",
    "    \n",
    "    id_to_zid.append(zid) # Record that node_id corresponds to this zID\n",
    "    \n",
    "    node_id += 1 ## Every molecule gets a unique identifier\n",
    "\n",
    "dudez_fps = np.array(dudez_fps) ## Convert Fingerprints List to NumPy Array\n",
    "# Output results\n",
    "print(f\"Total SMILES processed: {len(dudez_data)}\")\n",
    "print(f\"Successful molecule generation: {successful_count}\")\n",
    "print(f\"Failed SMILES count: {len(failed_smiles)}\")\n",
    "print(\"Failed SMILES examples:\", failed_smiles[:10])  # Print a few failed SMILES"
   ]
  },
  {
   "cell_type": "markdown",
   "metadata": {},
   "source": [
    "### Set parameters for HNSW and construct it"
   ]
  },
  {
   "cell_type": "code",
   "execution_count": 7,
   "metadata": {},
   "outputs": [],
   "source": [
    "EF_CONSTRUCTION = 400 ## graph_quality\n",
    "M = 16 ## max_neighbours_node"
   ]
  },
  {
   "cell_type": "code",
   "execution_count": 8,
   "metadata": {},
   "outputs": [
    {
     "name": "stdout",
     "output_type": "stream",
     "text": [
      "HNSW Construction time: 2.0193264484405518 seconds\n"
     ]
    },
    {
     "name": "stderr",
     "output_type": "stream",
     "text": [
      "Formatting hnswlib Neighbor Data: 132881it [00:00, 414792.73it/s]\n",
      "Constructing graph_tool graphs:  97%|█████████▋| 128454/132881 [00:02<00:00, 51836.07it/s]"
     ]
    },
    {
     "name": "stdout",
     "output_type": "stream",
     "text": [
      "Adding batch 0/0 to graphs\n"
     ]
    },
    {
     "name": "stderr",
     "output_type": "stream",
     "text": [
      "Constructing graph_tool graphs: 100%|██████████| 132881/132881 [00:05<00:00, 22873.23it/s]"
     ]
    },
    {
     "name": "stdout",
     "output_type": "stream",
     "text": [
      "Number of nodes in layer 0: 132881\n",
      "Number of nodes in layer 1: 8217\n",
      "Number of nodes in layer 2: 490\n",
      "Number of nodes in layer 3: 30\n",
      "Number of nodes in layer 4: 1\n"
     ]
    },
    {
     "name": "stderr",
     "output_type": "stream",
     "text": [
      "\n"
     ]
    }
   ],
   "source": [
    "hnsw_layer_graphs, hnsw_index = getGraphs(dudez_fps, ef_construction=EF_CONSTRUCTION, M=M)\n",
    "element_levels = hnsw_index[\"element_levels\"]\n",
    "max_level = hnsw_index[\"max_level\"]\n",
    "\n",
    "for lvl in range(max_level + 1):\n",
    "    num_nodes_in_layer = np.sum(element_levels >= lvl)\n",
    "    print(f\"Number of nodes in layer {lvl}: {num_nodes_in_layer}\")"
   ]
  },
  {
   "cell_type": "markdown",
   "metadata": {},
   "source": [
    "### Build file index for quicker traversal"
   ]
  },
  {
   "cell_type": "code",
   "execution_count": 9,
   "metadata": {},
   "outputs": [],
   "source": [
    "import os\n",
    "import json\n",
    "import time\n",
    "from smina.dock import dock_with_smina\n",
    "from smina.utils import build_goldilocks_index, retrieve_mol2_file, get_ligand_block"
   ]
  },
  {
   "cell_type": "code",
   "execution_count": 10,
   "metadata": {},
   "outputs": [
    {
     "name": "stdout",
     "output_type": "stream",
     "text": [
      "132884\n"
     ]
    }
   ],
   "source": [
    "folder_dir = \"/rds/general/user/bl521/home/smina_docking/super_goldilocks\"\n",
    "big_index = build_goldilocks_index(folder_dir)\n",
    "print(len(big_index))"
   ]
  },
  {
   "cell_type": "markdown",
   "metadata": {},
   "source": [
    "### Measure Retirval Time vs. Offset"
   ]
  },
  {
   "cell_type": "code",
   "execution_count": 18,
   "metadata": {},
   "outputs": [],
   "source": [
    "import random\n",
    "def measure_retrieval_times(big_index, sample_size=2000):\n",
    "    \"\"\"\n",
    "    1) Randomly pick 'sample_size' ligands from big_index keys.\n",
    "    2) For each, measure time to call get_ligand_block(mol2_path, offset).\n",
    "    3) Return two lists: offsets, times.\n",
    "    \"\"\"\n",
    "    all_ligands = list(big_index.keys())\n",
    "    \n",
    "    # if the big_index is huge, we randomly pick a subset\n",
    "    sample_ligands = random.sample(all_ligands, min(sample_size, len(all_ligands)))\n",
    "\n",
    "    offsets = []\n",
    "    times = []\n",
    "\n",
    "    for ligand_id in sample_ligands:\n",
    "        mol2_path, offset = big_index[ligand_id]\n",
    "        \n",
    "        start_t = time.perf_counter()\n",
    "        block = get_ligand_block(mol2_path, offset)  # your offset-based retrieval\n",
    "        end_t = time.perf_counter()\n",
    "        \n",
    "        retrieval_time = end_t - start_t\n",
    "        \n",
    "        offsets.append(offset)\n",
    "        times.append(retrieval_time)\n",
    "\n",
    "    return offsets, times"
   ]
  },
  {
   "cell_type": "code",
   "execution_count": 19,
   "metadata": {},
   "outputs": [],
   "source": [
    "import matplotlib.pyplot as plt\n",
    "\n",
    "def plot_offset_vs_time(offsets, times):\n",
    "    \"\"\"\n",
    "    Plots a scatter of offset (x-axis) vs retrieval time (y-axis).\n",
    "    \"\"\"\n",
    "    plt.figure(figsize=(8,6))\n",
    "    plt.scatter(offsets, times, alpha=0.6)\n",
    "    plt.title(\"Retrieval Time vs. Offset\")\n",
    "    plt.xlabel(\"Byte Offset in .mol2 file\")\n",
    "    plt.ylabel(\"Retrieval Time (seconds)\")\n",
    "    plt.show()"
   ]
  },
  {
   "cell_type": "code",
   "execution_count": 20,
   "metadata": {},
   "outputs": [
    {
     "name": "stdout",
     "output_type": "stream",
     "text": [
      "Average retrieval time (seconds): 0.0009042833954095841\n"
     ]
    },
    {
     "data": {
      "image/png": "[encoded data removed]",
      "text/plain": [
       "<Figure size 800x600 with 1 Axes>"
      ]
     },
     "metadata": {},
     "output_type": "display_data"
    }
   ],
   "source": [
    "offsets, times = measure_retrieval_times(big_index, sample_size=5000)\n",
    "average_time = sum(times) / len(times)\n",
    "print(f\"Average retrieval time (seconds): {average_time}\")\n",
    "plot_offset_vs_time(offsets, times)"
   ]
  },
  {
   "cell_type": "markdown",
   "metadata": {},
   "source": [
    "### Define the receptor and receptor ligand"
   ]
  },
  {
   "cell_type": "code",
   "execution_count": 11,
   "metadata": {},
   "outputs": [],
   "source": [
    "RECEPTOR = \"ROCK1\"\n",
    "NUM_TO_TRAVERSE = 10000 # Maximum number of molecules to score"
   ]
  },
  {
   "cell_type": "code",
   "execution_count": 12,
   "metadata": {},
   "outputs": [],
   "source": [
    "# Load the JSON that maps receptor names -> rec.crg.pdb paths\n",
    "json_file = \"/rds/general/user/bl521/home/rad/examples/pdb_receptors.json\"\n",
    "with open(json_file, \"r\") as f:\n",
    "    receptor_map = json.load(f)"
   ]
  },
  {
   "cell_type": "code",
   "execution_count": 13,
   "metadata": {},
   "outputs": [],
   "source": [
    "# Load the JSON that maps receptor ligand names -> xtal-lig.pdb paths\n",
    "json_file = \"/rds/general/user/bl521/home/rad/examples/pdb_tar_lig.json\"\n",
    "with open(json_file, \"r\") as f:\n",
    "    reclig_map = json.load(f)"
   ]
  },
  {
   "cell_type": "code",
   "execution_count": 14,
   "metadata": {},
   "outputs": [],
   "source": [
    "if RECEPTOR not in receptor_map:\n",
    "    raise ValueError(f\"[ERROR] Receptor '{RECEPTOR}' not found in {json_file}\")\n",
    "receptor_pdb = receptor_map[RECEPTOR]\n",
    "reclig_pdb = reclig_map[RECEPTOR]"
   ]
  },
  {
   "cell_type": "markdown",
   "metadata": {},
   "source": [
    "### Debug function"
   ]
  },
  {
   "cell_type": "code",
   "execution_count": 14,
   "metadata": {},
   "outputs": [],
   "source": [
    "def write_block_to_temp_mol2(block, ligand_id):\n",
    "    import tempfile, os\n",
    "\n",
    "    # Create a unique temp .mol2 file name\n",
    "    tmp = tempfile.NamedTemporaryFile(suffix=\".mol2\", delete=False)\n",
    "    tmp_mol2_path = tmp.name\n",
    "    tmp.close()  # We only needed the name\n",
    "\n",
    "    # Write the block lines\n",
    "    with open(tmp_mol2_path, \"w\") as f:\n",
    "        f.writelines(block)\n",
    "\n",
    "    # [DEBUG] Now read back the file contents so you can print them\n",
    "    with open(tmp_mol2_path, \"r\") as dbg:\n",
    "        debug_text = dbg.read()\n",
    "    print(f\"[DEBUG] The block for {ligand_id} was written to {tmp_mol2_path}. Here are its contents:\\n{debug_text}\")\n",
    "\n",
    "    return tmp_mol2_path"
   ]
  },
  {
   "cell_type": "markdown",
   "metadata": {},
   "source": [
    "### Traverse HNSW with Smina using 1 receptor"
   ]
  },
  {
   "cell_type": "code",
   "execution_count": 15,
   "metadata": {},
   "outputs": [],
   "source": [
    "scores_by_node = {}  # node_id -> docking score\n",
    "def score_fn(node_id):\n",
    "    start_all = time.perf_counter()\n",
    "\n",
    "    # 1) bounds check + get ligand ID\n",
    "    stage1_start = time.perf_counter()\n",
    "    if node_id < 0 or node_id >= len(id_to_zid):\n",
    "        return np.inf\n",
    "    ligand_id = id_to_zid[node_id]\n",
    "#     print(f\"[DEBUG] node_id={node_id} => ligand_id={ligand_id}\")\n",
    "    \n",
    "#     # Check if in big_index\n",
    "    if ligand_id not in big_index:\n",
    "#         print(f\"[DEBUG] {ligand_id} not in big_index.\")\n",
    "        return np.inf\n",
    "    mol2_path, offset = big_index[ligand_id]\n",
    "    stage1_end = time.perf_counter()\n",
    "#     print(f\"[DEBUG] Found offset={offset} in {mol2_path} for {ligand_id}\")\n",
    "\n",
    "    # 2) retrieve temp .mol2\n",
    "    stage2_start = time.perf_counter()\n",
    "    mol2_temp = retrieve_mol2_file(ligand_id, big_index)\n",
    "    stage2_end = time.perf_counter()\n",
    "    \n",
    "#     block = get_ligand_block(mol2_path, offset)\n",
    "    # Write and debug-print the block\n",
    "#     mol2_temp1 = write_block_to_temp_mol2(block, ligand_id)\n",
    "    if not mol2_temp:\n",
    "        # either not found or offset read failed\n",
    "        return np.inf\n",
    "\n",
    "    # 3) dock\n",
    "    stage3_start = time.perf_counter()\n",
    "    best_score,mol2_text = dock_with_smina(mol2_temp, receptor_pdb, reclig_pdb)\n",
    "    best_pose_output = os.path.join(\"/rds/general/user/bl521/home/rad/examples/best_pose_output\", f\"{ligand_id}_bestpose.mol2\")\n",
    "    with open(best_pose_output, \"w\") as f:\n",
    "        f.write(mol2_text)\n",
    "    stage3_end = time.perf_counter()\n",
    "    # remove the temp file\n",
    "    stage4_start = time.perf_counter()\n",
    "    os.remove(mol2_temp)\n",
    "    stage4_end = time.perf_counter()\n",
    "\n",
    "    if best_score is None:\n",
    "        print(f\"[DEBUG] dock_with_smina_mol2 returned None for {ligand_id}\")\n",
    "        return np.inf\n",
    "    \n",
    "    scores_by_node[node_id] = best_score\n",
    "    end_all = time.perf_counter()\n",
    "    # Print or log times for debugging\n",
    "    stage1_time = stage1_end - stage1_start\n",
    "    stage2_time = stage2_end - stage2_start\n",
    "    stage3_time = stage3_end - stage3_start\n",
    "    stage4_time = stage4_end - stage4_start\n",
    "    total_time = end_all - start_all\n",
    "    \n",
    "    print(f\"[DEBUG] score_fn times for node {node_id}:\")\n",
    "    print(f\"  Stage 1 (big_index lookup): {stage1_time:.4f}s\")\n",
    "    print(f\"  Stage 2 (retrieve mol2): {stage2_time:.4f}s\")\n",
    "    print(f\"  Stage 3 (docking): {stage3_time:.4f}s\")\n",
    "    print(f\"  Stage 4 (cleanup): {stage4_time:.4f}s\")\n",
    "    print(f\"  TOTAL: {total_time:.4f}s\")\n",
    "    \n",
    "    return best_score"
   ]
  },
  {
   "cell_type": "code",
   "execution_count": 36,
   "metadata": {},
   "outputs": [
    {
     "name": "stderr",
     "output_type": "stream",
     "text": [
      "Initializing Traversal:   4%|▎         | 4396/123153 [00:02<01:05, 1825.50it/s]\n"
     ]
    },
    {
     "ename": "KeyboardInterrupt",
     "evalue": "",
     "output_type": "error",
     "traceback": [
      "\u001b[0;31m---------------------------------------------------------------------------\u001b[0m",
      "\u001b[0;31mKeyboardInterrupt\u001b[0m                         Traceback (most recent call last)",
      "Cell \u001b[0;32mIn[36], line 1\u001b[0m\n\u001b[0;32m----> 1\u001b[0m traversed_nodes \u001b[38;5;241m=\u001b[39m \u001b[43mtraverseHNSW\u001b[49m\u001b[43m(\u001b[49m\u001b[43mhnsw_layer_graphs\u001b[49m\u001b[43m,\u001b[49m\u001b[43m \u001b[49m\u001b[43mscore_fn\u001b[49m\u001b[43m,\u001b[49m\u001b[43m \u001b[49m\u001b[43mNUM_TO_TRAVERSE\u001b[49m\u001b[43m)\u001b[49m\n",
      "File \u001b[0;32m~/rad/rad/traversal.py:90\u001b[0m, in \u001b[0;36mtraverseHNSW\u001b[0;34m(hnsw_graphs, scoring_fn, num_to_search)\u001b[0m\n\u001b[1;32m     86\u001b[0m \u001b[38;5;28;01mdef\u001b[39;00m\u001b[38;5;250m \u001b[39m\u001b[38;5;21mtraverseHNSW\u001b[39m(hnsw_graphs, scoring_fn, num_to_search):\n\u001b[1;32m     88\u001b[0m     (open_pq_start, \n\u001b[1;32m     89\u001b[0m     visited_start, \n\u001b[0;32m---> 90\u001b[0m     start_node_scores) \u001b[38;5;241m=\u001b[39m \u001b[43minitialize_search\u001b[49m\u001b[43m(\u001b[49m\u001b[43mhnsw_graphs\u001b[49m\u001b[43m,\u001b[49m\u001b[43m \u001b[49m\u001b[43mscoring_fn\u001b[49m\u001b[43m)\u001b[49m\n\u001b[1;32m     92\u001b[0m     scores \u001b[38;5;241m=\u001b[39m traverse_queue(\n\u001b[1;32m     93\u001b[0m                 open_pq_start,\n\u001b[1;32m     94\u001b[0m                 visited_start,\n\u001b[0;32m   (...)\u001b[0m\n\u001b[1;32m     97\u001b[0m                 start_node_scores,\n\u001b[1;32m     98\u001b[0m                 scoring_fn)\n\u001b[1;32m    100\u001b[0m     \u001b[38;5;28;01mreturn\u001b[39;00m scores\n",
      "File \u001b[0;32m~/rad/rad/traversal.py:18\u001b[0m, in \u001b[0;36minitialize_search\u001b[0;34m(hnsw_graphs, scoring_fn)\u001b[0m\n\u001b[1;32m     15\u001b[0m \u001b[38;5;28;01mif\u001b[39;00m \u001b[38;5;28mlen\u001b[39m(hnsw_graphs[\u001b[38;5;241m-\u001b[39m\u001b[38;5;241m1\u001b[39m]\u001b[38;5;241m.\u001b[39mget_all_neighbors(node_id)) \u001b[38;5;241m==\u001b[39m \u001b[38;5;241m0\u001b[39m:\n\u001b[1;32m     16\u001b[0m     \u001b[38;5;28;01mcontinue\u001b[39;00m\n\u001b[0;32m---> 18\u001b[0m score \u001b[38;5;241m=\u001b[39m \u001b[43mscoring_fn\u001b[49m\u001b[43m(\u001b[49m\u001b[43mnode_id\u001b[49m\u001b[43m)\u001b[49m\n\u001b[1;32m     20\u001b[0m node_scores[node_id] \u001b[38;5;241m=\u001b[39m score\n\u001b[1;32m     22\u001b[0m visited\u001b[38;5;241m.\u001b[39madd((node_id,\u001b[38;5;28mlen\u001b[39m(hnsw_graphs)\u001b[38;5;241m-\u001b[39m\u001b[38;5;241m1\u001b[39m))\n",
      "Cell \u001b[0;32mIn[27], line 34\u001b[0m, in \u001b[0;36mscore_fn\u001b[0;34m(node_id)\u001b[0m\n\u001b[1;32m     32\u001b[0m \u001b[38;5;66;03m# 3) dock\u001b[39;00m\n\u001b[1;32m     33\u001b[0m stage3_start \u001b[38;5;241m=\u001b[39m time\u001b[38;5;241m.\u001b[39mperf_counter()\n\u001b[0;32m---> 34\u001b[0m best_score \u001b[38;5;241m=\u001b[39m \u001b[43mdock_with_smina\u001b[49m\u001b[43m(\u001b[49m\u001b[43mmol2_temp\u001b[49m\u001b[43m,\u001b[49m\u001b[43m \u001b[49m\u001b[43mreceptor_pdb\u001b[49m\u001b[43m,\u001b[49m\u001b[43m \u001b[49m\u001b[43mreclig_pdb\u001b[49m\u001b[43m)\u001b[49m\n\u001b[1;32m     35\u001b[0m stage3_end \u001b[38;5;241m=\u001b[39m time\u001b[38;5;241m.\u001b[39mperf_counter()\n\u001b[1;32m     36\u001b[0m \u001b[38;5;66;03m# remove the temp file\u001b[39;00m\n",
      "File \u001b[0;32m~/rad/examples/smina/dock.py:17\u001b[0m, in \u001b[0;36mdock_with_smina\u001b[0;34m(ligand, receptor, rec_lig)\u001b[0m\n\u001b[1;32m      5\u001b[0m docked_output \u001b[38;5;241m=\u001b[39m ligand\u001b[38;5;241m.\u001b[39mreplace(\u001b[38;5;124m\"\u001b[39m\u001b[38;5;124m.mol2\u001b[39m\u001b[38;5;124m\"\u001b[39m, \u001b[38;5;124m\"\u001b[39m\u001b[38;5;124m_docked.mol2\u001b[39m\u001b[38;5;124m\"\u001b[39m)\n\u001b[1;32m      7\u001b[0m cmd_dock \u001b[38;5;241m=\u001b[39m [\n\u001b[1;32m      8\u001b[0m     \u001b[38;5;124m\"\u001b[39m\u001b[38;5;124msmina\u001b[39m\u001b[38;5;124m\"\u001b[39m,\n\u001b[1;32m      9\u001b[0m     \u001b[38;5;124m\"\u001b[39m\u001b[38;5;124m--receptor\u001b[39m\u001b[38;5;124m\"\u001b[39m, receptor,\n\u001b[0;32m   (...)\u001b[0m\n\u001b[1;32m     15\u001b[0m     \u001b[38;5;124m\"\u001b[39m\u001b[38;5;124m--num_modes\u001b[39m\u001b[38;5;124m\"\u001b[39m, \u001b[38;5;124m\"\u001b[39m\u001b[38;5;124m1\u001b[39m\u001b[38;5;124m\"\u001b[39m\n\u001b[1;32m     16\u001b[0m ]\n\u001b[0;32m---> 17\u001b[0m docking_process \u001b[38;5;241m=\u001b[39m \u001b[43msubprocess\u001b[49m\u001b[38;5;241;43m.\u001b[39;49m\u001b[43mrun\u001b[49m\u001b[43m(\u001b[49m\u001b[43mcmd_dock\u001b[49m\u001b[43m,\u001b[49m\u001b[43m \u001b[49m\u001b[43mcapture_output\u001b[49m\u001b[38;5;241;43m=\u001b[39;49m\u001b[38;5;28;43;01mTrue\u001b[39;49;00m\u001b[43m,\u001b[49m\u001b[43m \u001b[49m\u001b[43mtext\u001b[49m\u001b[38;5;241;43m=\u001b[39;49m\u001b[38;5;28;43;01mTrue\u001b[39;49;00m\u001b[43m)\u001b[49m\n\u001b[1;32m     18\u001b[0m \u001b[38;5;28;01mif\u001b[39;00m docking_process\u001b[38;5;241m.\u001b[39mreturncode \u001b[38;5;241m!=\u001b[39m \u001b[38;5;241m0\u001b[39m:\n\u001b[1;32m     19\u001b[0m     \u001b[38;5;28;01mraise\u001b[39;00m \u001b[38;5;167;01mRuntimeError\u001b[39;00m(\u001b[38;5;124mf\u001b[39m\u001b[38;5;124m\"\u001b[39m\u001b[38;5;124mSmina docking failed:\u001b[39m\u001b[38;5;130;01m\\n\u001b[39;00m\u001b[38;5;132;01m{\u001b[39;00mdocking_process\u001b[38;5;241m.\u001b[39mstderr\u001b[38;5;132;01m}\u001b[39;00m\u001b[38;5;124m\"\u001b[39m)\n",
      "File \u001b[0;32m~/anaconda3/envs/rad1/lib/python3.11/subprocess.py:550\u001b[0m, in \u001b[0;36mrun\u001b[0;34m(input, capture_output, timeout, check, *popenargs, **kwargs)\u001b[0m\n\u001b[1;32m    548\u001b[0m \u001b[38;5;28;01mwith\u001b[39;00m Popen(\u001b[38;5;241m*\u001b[39mpopenargs, \u001b[38;5;241m*\u001b[39m\u001b[38;5;241m*\u001b[39mkwargs) \u001b[38;5;28;01mas\u001b[39;00m process:\n\u001b[1;32m    549\u001b[0m     \u001b[38;5;28;01mtry\u001b[39;00m:\n\u001b[0;32m--> 550\u001b[0m         stdout, stderr \u001b[38;5;241m=\u001b[39m \u001b[43mprocess\u001b[49m\u001b[38;5;241;43m.\u001b[39;49m\u001b[43mcommunicate\u001b[49m\u001b[43m(\u001b[49m\u001b[38;5;28;43minput\u001b[39;49m\u001b[43m,\u001b[49m\u001b[43m \u001b[49m\u001b[43mtimeout\u001b[49m\u001b[38;5;241;43m=\u001b[39;49m\u001b[43mtimeout\u001b[49m\u001b[43m)\u001b[49m\n\u001b[1;32m    551\u001b[0m     \u001b[38;5;28;01mexcept\u001b[39;00m TimeoutExpired \u001b[38;5;28;01mas\u001b[39;00m exc:\n\u001b[1;32m    552\u001b[0m         process\u001b[38;5;241m.\u001b[39mkill()\n",
      "File \u001b[0;32m~/anaconda3/envs/rad1/lib/python3.11/subprocess.py:1209\u001b[0m, in \u001b[0;36mPopen.communicate\u001b[0;34m(self, input, timeout)\u001b[0m\n\u001b[1;32m   1206\u001b[0m     endtime \u001b[38;5;241m=\u001b[39m \u001b[38;5;28;01mNone\u001b[39;00m\n\u001b[1;32m   1208\u001b[0m \u001b[38;5;28;01mtry\u001b[39;00m:\n\u001b[0;32m-> 1209\u001b[0m     stdout, stderr \u001b[38;5;241m=\u001b[39m \u001b[38;5;28;43mself\u001b[39;49m\u001b[38;5;241;43m.\u001b[39;49m\u001b[43m_communicate\u001b[49m\u001b[43m(\u001b[49m\u001b[38;5;28;43minput\u001b[39;49m\u001b[43m,\u001b[49m\u001b[43m \u001b[49m\u001b[43mendtime\u001b[49m\u001b[43m,\u001b[49m\u001b[43m \u001b[49m\u001b[43mtimeout\u001b[49m\u001b[43m)\u001b[49m\n\u001b[1;32m   1210\u001b[0m \u001b[38;5;28;01mexcept\u001b[39;00m \u001b[38;5;167;01mKeyboardInterrupt\u001b[39;00m:\n\u001b[1;32m   1211\u001b[0m     \u001b[38;5;66;03m# https://bugs.python.org/issue25942\u001b[39;00m\n\u001b[1;32m   1212\u001b[0m     \u001b[38;5;66;03m# See the detailed comment in .wait().\u001b[39;00m\n\u001b[1;32m   1213\u001b[0m     \u001b[38;5;28;01mif\u001b[39;00m timeout \u001b[38;5;129;01mis\u001b[39;00m \u001b[38;5;129;01mnot\u001b[39;00m \u001b[38;5;28;01mNone\u001b[39;00m:\n",
      "File \u001b[0;32m~/anaconda3/envs/rad1/lib/python3.11/subprocess.py:2113\u001b[0m, in \u001b[0;36mPopen._communicate\u001b[0;34m(self, input, endtime, orig_timeout)\u001b[0m\n\u001b[1;32m   2106\u001b[0m     \u001b[38;5;28mself\u001b[39m\u001b[38;5;241m.\u001b[39m_check_timeout(endtime, orig_timeout,\n\u001b[1;32m   2107\u001b[0m                         stdout, stderr,\n\u001b[1;32m   2108\u001b[0m                         skip_check_and_raise\u001b[38;5;241m=\u001b[39m\u001b[38;5;28;01mTrue\u001b[39;00m)\n\u001b[1;32m   2109\u001b[0m     \u001b[38;5;28;01mraise\u001b[39;00m \u001b[38;5;167;01mRuntimeError\u001b[39;00m(  \u001b[38;5;66;03m# Impossible :)\u001b[39;00m\n\u001b[1;32m   2110\u001b[0m         \u001b[38;5;124m'\u001b[39m\u001b[38;5;124m_check_timeout(..., skip_check_and_raise=True) \u001b[39m\u001b[38;5;124m'\u001b[39m\n\u001b[1;32m   2111\u001b[0m         \u001b[38;5;124m'\u001b[39m\u001b[38;5;124mfailed to raise TimeoutExpired.\u001b[39m\u001b[38;5;124m'\u001b[39m)\n\u001b[0;32m-> 2113\u001b[0m ready \u001b[38;5;241m=\u001b[39m \u001b[43mselector\u001b[49m\u001b[38;5;241;43m.\u001b[39;49m\u001b[43mselect\u001b[49m\u001b[43m(\u001b[49m\u001b[43mtimeout\u001b[49m\u001b[43m)\u001b[49m\n\u001b[1;32m   2114\u001b[0m \u001b[38;5;28mself\u001b[39m\u001b[38;5;241m.\u001b[39m_check_timeout(endtime, orig_timeout, stdout, stderr)\n\u001b[1;32m   2116\u001b[0m \u001b[38;5;66;03m# XXX Rewrite these to use non-blocking I/O on the file\u001b[39;00m\n\u001b[1;32m   2117\u001b[0m \u001b[38;5;66;03m# objects; they are no longer using C stdio!\u001b[39;00m\n",
      "File \u001b[0;32m~/anaconda3/envs/rad1/lib/python3.11/selectors.py:415\u001b[0m, in \u001b[0;36m_PollLikeSelector.select\u001b[0;34m(self, timeout)\u001b[0m\n\u001b[1;32m    413\u001b[0m ready \u001b[38;5;241m=\u001b[39m []\n\u001b[1;32m    414\u001b[0m \u001b[38;5;28;01mtry\u001b[39;00m:\n\u001b[0;32m--> 415\u001b[0m     fd_event_list \u001b[38;5;241m=\u001b[39m \u001b[38;5;28mself\u001b[39m\u001b[38;5;241m.\u001b[39m_selector\u001b[38;5;241m.\u001b[39mpoll(timeout)\n\u001b[1;32m    416\u001b[0m \u001b[38;5;28;01mexcept\u001b[39;00m \u001b[38;5;167;01mInterruptedError\u001b[39;00m:\n\u001b[1;32m    417\u001b[0m     \u001b[38;5;28;01mreturn\u001b[39;00m ready\n",
      "\u001b[0;31mKeyboardInterrupt\u001b[0m: "
     ]
    }
   ],
   "source": [
    "traversed_nodes = traverseHNSW(hnsw_layer_graphs, score_fn, NUM_TO_TRAVERSE)"
   ]
  },
  {
   "cell_type": "markdown",
   "metadata": {},
   "source": [
    "### Store the Smina docking socres"
   ]
  },
  {
   "cell_type": "code",
   "execution_count": null,
   "metadata": {},
   "outputs": [],
   "source": [
    "with open(\"zid_scores_rock1.json\", \"w\") as f:\n",
    "    json.dump(scores_by_node, f, indent=2)"
   ]
  },
  {
   "cell_type": "markdown",
   "metadata": {},
   "source": [
    "### Testing functions"
   ]
  },
  {
   "cell_type": "code",
   "execution_count": 16,
   "metadata": {},
   "outputs": [
    {
     "name": "stdout",
     "output_type": "stream",
     "text": [
      "[DEBUG] score_fn times for node 35819:\n",
      "  Stage 1 (big_index lookup): 0.0000s\n",
      "  Stage 2 (retrieve mol2): 0.0022s\n",
      "  Stage 3 (docking): 7.4342s\n",
      "  Stage 4 (cleanup): 0.0001s\n",
      "  TOTAL: 7.4366s\n",
      "Score for node 0: -8.3\n"
     ]
    }
   ],
   "source": [
    "test_score = score_fn(35819)\n",
    "print(\"Score for node 0:\", test_score)"
   ]
  },
  {
   "cell_type": "code",
   "execution_count": 23,
   "metadata": {},
   "outputs": [
    {
     "name": "stdout",
     "output_type": "stream",
     "text": [
      "Contents for ZINC000195579048:\n",
      "['O=C(OCC1=CC=NC(N2C=CN=C2)=C1)C1=NNC2=C1CCCCC2', {'AA2AR': -39.983414, 'ADA': -64.868652, 'CXCR4': -61.782784, 'EGFR': -24.253635, 'FABP4': -11.11738, 'GLCM': -63.349018, 'HMDH': -28.997349, 'KIT': -31.17395, 'MAPK2': -155.783173, 'NRAM': -53.535549, 'PLK1': -34.855553, 'PUR2': -38.877541, 'TRYB1': -65.183395, 'ABL1': -32.854973, 'ADRB2': -52.429115, 'D4': -51.136627, 'FA10': -53.703453, 'FGFR1': -32.941429, 'HDAC8': -25.732304, 'HS90A': -32.218956, 'KITH': -28.760841, 'MK01': -35.781639, 'PARP1': -47.070869, 'PPARA': -30.189903, 'RENI': -58.638855, 'THRB': -56.696808, 'UROK': -58.700195, 'ACES': -45.737171, 'AMPC': -21.045099, 'CSF1R': -22.908386, 'DEF': -38.750355, 'FA7': -41.850082, 'FKB1A': -26.184082, 'HIVPR': -61.001072, 'ITAL': -21.193951, 'LCK': -35.623638, 'MT1': -29.327637, 'PTN1': -17.909374, 'ROCK1': -43.049107, 'SRC': -40.890236, 'TRY1': -44.814583, 'XIAP': -32.759544}]\n"
     ]
    }
   ],
   "source": [
    "import pickle\n",
    "\n",
    "pickle_file = \"dudez_dock_scores.pkl\"\n",
    "\n",
    "with open(pickle_file, \"rb\") as f:\n",
    "    data_dict = pickle.load(f)  # data_dict is now a Python dictionary\n",
    "\n",
    "key = \"ZINC000195579048\"\n",
    "\n",
    "if key in data_dict:\n",
    "    print(f\"Contents for {key}:\")\n",
    "    print(data_dict[key])\n",
    "else:\n",
    "    print(f\"{key} not found in dictionary.\")\n"
   ]
  },
  {
   "cell_type": "code",
   "execution_count": 23,
   "metadata": {},
   "outputs": [
    {
     "name": "stdout",
     "output_type": "stream",
     "text": [
      "Node: 274918 => ZINC ID: ZINC000069658898\n"
     ]
    }
   ],
   "source": [
    "node_id = 274918 # or any index < len(id_to_zid)\n",
    "zid = id_to_zid[node_id]\n",
    "print(\"Node:\", node_id, \"=> ZINC ID:\", zid)"
   ]
  }
 ],
 "metadata": {
  "kernelspec": {
   "display_name": "Python [conda env:rad1]",
   "language": "python",
   "name": "conda-env-rad1-py"
  },
  "language_info": {
   "codemirror_mode": {
    "name": "ipython",
    "version": 3
   },
   "file_extension": ".py",
   "mimetype": "text/x-python",
   "name": "python",
   "nbconvert_exporter": "python",
   "pygments_lexer": "ipython3",
   "version": "3.11.8"
  }
 },
 "nbformat": 4,
 "nbformat_minor": 2
}
