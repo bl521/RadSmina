{
 "cells": [
  {
   "cell_type": "code",
   "execution_count": 1,
   "metadata": {},
   "outputs": [
    {
     "name": "stderr",
     "output_type": "stream",
     "text": [
      "<frozen importlib._bootstrap>:241: RuntimeWarning: to-Python converter for std::vector<int, std::allocator<int> > already registered; second conversion method ignored.\n",
      "<frozen importlib._bootstrap>:241: RuntimeWarning: to-Python converter for std::vector<double, std::allocator<double> > already registered; second conversion method ignored.\n",
      "<frozen importlib._bootstrap>:241: RuntimeWarning: to-Python converter for std::vector<std::__cxx11::basic_string<char, std::char_traits<char>, std::allocator<char> >, std::allocator<std::__cxx11::basic_string<char, std::char_traits<char>, std::allocator<char> > > > already registered; second conversion method ignored.\n",
      "<frozen importlib._bootstrap>:241: RuntimeWarning: to-Python converter for std::vector<unsigned long, std::allocator<unsigned long> > already registered; second conversion method ignored.\n",
      "<frozen importlib._bootstrap>:241: RuntimeWarning: to-Python converter for std::vector<std::vector<double, std::allocator<double> >, std::allocator<std::vector<double, std::allocator<double> > > > already registered; second conversion method ignored.\n",
      "<frozen importlib._bootstrap>:241: RuntimeWarning: to-Python converter for boost::python::detail::container_element<std::vector<std::vector<double, std::allocator<double> >, std::allocator<std::vector<double, std::allocator<double> > > >, unsigned long, boost::python::detail::final_vector_derived_policies<std::vector<std::vector<double, std::allocator<double> >, std::allocator<std::vector<double, std::allocator<double> > > >, false> > already registered; second conversion method ignored.\n",
      "<frozen importlib._bootstrap>:241: RuntimeWarning: to-Python converter for std::pair<double, double> already registered; second conversion method ignored.\n"
     ]
    }
   ],
   "source": [
    "import pickle\n",
    "import sys\n",
    "import inspect\n",
    "import numpy as np\n",
    "import matplotlib.pyplot as plt\n",
    "from tqdm import tqdm\n",
    "from rdkit import Chem, DataStructs, RDLogger\n",
    "from rdkit.Chem import AllChem\n",
    "\n",
    "from rad.construction import getGraphs\n",
    "from rad.traversal import traverseHNSW\n",
    "from utils.paths import radsmina_path, data_path\n",
    "\n",
    "# Disable rdkit error logging to keep output clean\n",
    "RDLogger.DisableLog('rdApp.*')  "
   ]
  },
  {
   "cell_type": "markdown",
   "metadata": {},
   "source": [
    "### Load the SMILES dataset"
   ]
  },
  {
   "cell_type": "code",
   "execution_count": 2,
   "metadata": {},
   "outputs": [],
   "source": [
    "input_pickle = \"goldilocks_smiles.pkl\"\n",
    "with open(input_pickle, 'rb') as f:\n",
    "    dudez_data = pickle.load(f)"
   ]
  },
  {
   "cell_type": "code",
   "execution_count": 3,
   "metadata": {},
   "outputs": [
    {
     "name": "stdout",
     "output_type": "stream",
     "text": [
      "Loaded 132884 molecules from goldilocks_smiles.pkl.\n"
     ]
    }
   ],
   "source": [
    "print(f\"Loaded {len(dudez_data)} molecules from {input_pickle}.\")"
   ]
  },
  {
   "cell_type": "markdown",
   "metadata": {},
   "source": [
    "### Set parameters for fingerprints and generate them"
   ]
  },
  {
   "cell_type": "code",
   "execution_count": 4,
   "metadata": {},
   "outputs": [],
   "source": [
    "FP_LENGTH = 1024\n",
    "FP_RADIUS = 2"
   ]
  },
  {
   "cell_type": "code",
   "execution_count": 5,
   "metadata": {},
   "outputs": [],
   "source": [
    "failed_smiles = []  # List to store failed SMILES\n",
    "successful_count = 0  # Counter for successful molecules"
   ]
  },
  {
   "cell_type": "code",
   "execution_count": 6,
   "metadata": {},
   "outputs": [
    {
     "name": "stderr",
     "output_type": "stream",
     "text": [
      "Generating Fingeprints: 100%|██████████| 132884/132884 [00:27<00:00, 4835.07it/s]\n"
     ]
    },
    {
     "name": "stdout",
     "output_type": "stream",
     "text": [
      "Total SMILES processed: 132884\n",
      "Successful molecule generation: 132881\n",
      "Failed SMILES count: 3\n",
      "Failed SMILES examples: ['1=CC=C(CCC[N@@H+]2C[C@@H]3CC[C@H](C2)N(C[C@H]2[C@@H]4C[NH2+]C[C@H]24)C3)C=C1', '=C(NCC1=CC=CN=C1)[C@H]1[C@@H]2C[N@@H+](C[C@@H]3C[C@H]4C=C[C@@H]3C4)C[C@@H]21', '[C@H]2[C@H]3C=C[C@H](C3)[C@@H]2C(=O)N1NC1=CC=C([N+](=O)[O-])C=C1[N+](=O)[O-]']\n"
     ]
    }
   ],
   "source": [
    "dudez_fps = [] ## To store molecular fingerprints in a compact binary form (packed bits).\n",
    "node_id = 0 ## A unique identifier for each molecule (node).\n",
    "\n",
    "# Store a mapping from node_id -> zID\n",
    "id_to_zid = []\n",
    "\n",
    "for zid in tqdm(dudez_data, total=len(dudez_data), desc=\"Generating Fingeprints\"):\n",
    "    smi = dudez_data[zid] ## SMILES string for the molecule.\n",
    "\n",
    "    # Some smiles will fail molecule generation. We just skip them\n",
    "    mol = Chem.MolFromSmiles(smi) ## The RDKit library converts the SMILES string into a molecular object\n",
    "    if mol is None:\n",
    "        ## Log failed SMILES\n",
    "        failed_smiles.append(smi)\n",
    "        continue\n",
    "    \n",
    "    # If successful, process as usual\n",
    "    successful_count += 1\n",
    "    # Convert rdkit bit vect fingerprint to numpy array\n",
    "    arr = np.zeros((1,), dtype=np.uint8)\n",
    "    fp = AllChem.GetMorganFingerprintAsBitVect(mol, radius=FP_RADIUS, nBits=FP_LENGTH) ## Generate Molecular Fingerprints\n",
    "    DataStructs.ConvertToNumpyArray(fp, arr) ## Convert Morgan Fingerprints to NumPy Array\n",
    "\n",
    "    # IMPORTANT: Make sure to pack bit fingerprints - it vastly speeds up HNSW construction\n",
    "    dudez_fps.append(np.packbits(arr)) \n",
    "    ## Groups every 8 bits into a single byte.\n",
    "    ## Reduces the length of the array by a factor of 8 (e.g., from 1024 bits to 128 bytes).\n",
    "    \n",
    "    id_to_zid.append(zid) # Record that node_id corresponds to this zID\n",
    "    \n",
    "    node_id += 1 ## Every molecule gets a unique identifier\n",
    "\n",
    "dudez_fps = np.array(dudez_fps) ## Convert Fingerprints List to NumPy Array\n",
    "# Output results\n",
    "print(f\"Total SMILES processed: {len(dudez_data)}\")\n",
    "print(f\"Successful molecule generation: {successful_count}\")\n",
    "print(f\"Failed SMILES count: {len(failed_smiles)}\")\n",
    "print(\"Failed SMILES examples:\", failed_smiles[:10])  # Print a few failed SMILES"
   ]
  },
  {
   "cell_type": "markdown",
   "metadata": {},
   "source": [
    "### Set parameters for HNSW and construct it"
   ]
  },
  {
   "cell_type": "code",
   "execution_count": 7,
   "metadata": {},
   "outputs": [],
   "source": [
    "EF_CONSTRUCTION = 400 ## graph_quality\n",
    "M = 16 ## max_neighbours_node"
   ]
  },
  {
   "cell_type": "code",
   "execution_count": 8,
   "metadata": {},
   "outputs": [
    {
     "name": "stdout",
     "output_type": "stream",
     "text": [
      "HNSW Construction time: 44.40401077270508 seconds\n"
     ]
    },
    {
     "name": "stderr",
     "output_type": "stream",
     "text": [
      "Formatting hnswlib Neighbor Data: 132881it [00:00, 452765.74it/s]\n",
      "Constructing graph_tool graphs:  97%|█████████▋| 129317/132881 [00:02<00:00, 52344.00it/s]"
     ]
    },
    {
     "name": "stdout",
     "output_type": "stream",
     "text": [
      "Adding batch 0/0 to graphs\n"
     ]
    },
    {
     "name": "stderr",
     "output_type": "stream",
     "text": [
      "Constructing graph_tool graphs: 100%|██████████| 132881/132881 [00:05<00:00, 23232.93it/s]"
     ]
    },
    {
     "name": "stdout",
     "output_type": "stream",
     "text": [
      "Number of nodes in layer 0: 132881\n",
      "Number of nodes in layer 1: 8231\n",
      "Number of nodes in layer 2: 494\n",
      "Number of nodes in layer 3: 30\n",
      "Number of nodes in layer 4: 1\n"
     ]
    },
    {
     "name": "stderr",
     "output_type": "stream",
     "text": [
      "\n"
     ]
    }
   ],
   "source": [
    "hnsw_layer_graphs, hnsw_index = getGraphs(dudez_fps, ef_construction=EF_CONSTRUCTION, M=M)\n",
    "element_levels = hnsw_index[\"element_levels\"]\n",
    "max_level = hnsw_index[\"max_level\"]\n",
    "\n",
    "for lvl in range(max_level + 1):\n",
    "    num_nodes_in_layer = np.sum(element_levels >= lvl)\n",
    "    print(f\"Number of nodes in layer {lvl}: {num_nodes_in_layer}\")"
   ]
  },
  {
   "cell_type": "markdown",
   "metadata": {},
   "source": [
    "### Build file index for quicker traversal"
   ]
  },
  {
   "cell_type": "code",
   "execution_count": 9,
   "metadata": {},
   "outputs": [],
   "source": [
    "import os\n",
    "import json\n",
    "import time\n",
    "from smina.dock import dock_with_smina\n",
    "from smina.utils import build_library_index, retrieve_mol2_file, get_ligand_block"
   ]
  },
  {
   "cell_type": "code",
   "execution_count": null,
   "metadata": {},
   "outputs": [],
   "source": [
    "# Download the goldilocks mol2 files archive\n",
    "!curl -o data/super_goldilocks.tar.gz https://zenodo.org/records/15802558/files/super_goldilocks.tar.gz"
   ]
  },
  {
   "cell_type": "code",
   "execution_count": null,
   "metadata": {},
   "outputs": [],
   "source": [
    "# Extract the mol2 files to /data\n",
    "!tar -xzvf data/super_goldilocks.tar.gz -C data/\n",
    "\n",
    "# Clean up the archive\n",
    "!rm data/super_goldilocks.tar.gz"
   ]
  },
  {
   "cell_type": "code",
   "execution_count": 10,
   "metadata": {},
   "outputs": [
    {
     "name": "stdout",
     "output_type": "stream",
     "text": [
      "132884\n"
     ]
    }
   ],
   "source": [
    "folder_dir = data_path(\"super_goldilocks\")\n",
    "big_index = build_library_index(folder_dir)\n",
    "print(len(big_index))"
   ]
  },
  {
   "cell_type": "markdown",
   "metadata": {},
   "source": [
    "### Measure Retirval Time vs. Offset"
   ]
  },
  {
   "cell_type": "code",
   "execution_count": 11,
   "metadata": {},
   "outputs": [],
   "source": [
    "import random\n",
    "def measure_retrieval_times(big_index, sample_size=2000):\n",
    "    \"\"\"\n",
    "    1) Randomly pick 'sample_size' ligands from big_index keys.\n",
    "    2) For each, measure time to call get_ligand_block(mol2_path, offset).\n",
    "    3) Return two lists: offsets, times.\n",
    "    \"\"\"\n",
    "    all_ligands = list(big_index.keys())\n",
    "    \n",
    "    # randomly pick a subset as the big_index is huge,\n",
    "    sample_ligands = random.sample(all_ligands, min(sample_size, len(all_ligands)))\n",
    "\n",
    "    offsets = []\n",
    "    times = []\n",
    "\n",
    "    for ligand_id in sample_ligands:\n",
    "        mol2_path, offset = big_index[ligand_id]\n",
    "        \n",
    "        start_t = time.perf_counter()\n",
    "        block = get_ligand_block(mol2_path, offset)  # offset-based retrieval\n",
    "        end_t = time.perf_counter()\n",
    "        \n",
    "        retrieval_time = end_t - start_t\n",
    "        \n",
    "        offsets.append(offset)\n",
    "        times.append(retrieval_time)\n",
    "\n",
    "    return offsets, times"
   ]
  },
  {
   "cell_type": "code",
   "execution_count": 12,
   "metadata": {},
   "outputs": [],
   "source": [
    "import matplotlib.pyplot as plt\n",
    "\n",
    "def plot_offset_vs_time(offsets, times):\n",
    "    \"\"\"\n",
    "    Plots a scatter of offset (x-axis) vs retrieval time (y-axis).\n",
    "    \"\"\"\n",
    "    plt.figure(figsize=(8,6))\n",
    "    plt.scatter(offsets, times, alpha=0.6)\n",
    "    plt.title(\"Retrieval Time vs. Offset\")\n",
    "    plt.xlabel(\"Byte Offset in .mol2 file\")\n",
    "    plt.ylabel(\"Retrieval Time (seconds)\")\n",
    "    plt.show()"
   ]
  },
  {
   "cell_type": "code",
   "execution_count": 20,
   "metadata": {},
   "outputs": [
    {
     "name": "stdout",
     "output_type": "stream",
     "text": [
      "Average retrieval time (seconds): 0.0008192244946141626\n"
     ]
    },
    {
     "data": {
      "image/png": "[encoded data removed]",
      "text/plain": [
       "<Figure size 800x600 with 1 Axes>"
      ]
     },
     "metadata": {},
     "output_type": "display_data"
    }
   ],
   "source": [
    "offsets, times = measure_retrieval_times(big_index, sample_size=132884)\n",
    "average_time = sum(times) / len(times)\n",
    "print(f\"Average retrieval time (seconds): {average_time}\")\n",
    "plot_offset_vs_time(offsets, times)"
   ]
  },
  {
   "cell_type": "markdown",
   "metadata": {},
   "source": [
    "### Define the receptor and receptor ligand"
   ]
  },
  {
   "cell_type": "code",
   "execution_count": 21,
   "metadata": {},
   "outputs": [],
   "source": [
    "RECEPTOR = \"ROCK1\"\n",
    "NUM_TO_TRAVERSE = 10000 # Maximum number of molecules to score"
   ]
  },
  {
   "cell_type": "code",
   "execution_count": 33,
   "metadata": {},
   "outputs": [],
   "source": [
    "receptor_pdb = os.path.join(data_path(\"receptor_files\"),f\"{RECEPTOR}.pdb\")\n",
    "reclig_pdb = os.path.join(data_path(\"reclig_files\"),f\"{RECEPTOR}-lig.pdb\")"
   ]
  },
  {
   "cell_type": "markdown",
   "metadata": {},
   "source": [
    "### Debug function"
   ]
  },
  {
   "cell_type": "code",
   "execution_count": 14,
   "metadata": {},
   "outputs": [],
   "source": [
    "def write_block_to_temp_mol2(block, ligand_id):\n",
    "    import tempfile, os\n",
    "\n",
    "    # Create a unique temp .mol2 file name\n",
    "    tmp = tempfile.NamedTemporaryFile(suffix=\".mol2\", delete=False)\n",
    "    tmp_mol2_path = tmp.name\n",
    "    tmp.close()  # We only needed the name\n",
    "\n",
    "    # Write the block lines\n",
    "    with open(tmp_mol2_path, \"w\") as f:\n",
    "        f.writelines(block)\n",
    "\n",
    "    # [DEBUG] Now read back the file contents so you can print them\n",
    "    with open(tmp_mol2_path, \"r\") as dbg:\n",
    "        debug_text = dbg.read()\n",
    "    print(f\"[DEBUG] The block for {ligand_id} was written to {tmp_mol2_path}. Here are its contents:\\n{debug_text}\")\n",
    "\n",
    "    return tmp_mol2_path"
   ]
  },
  {
   "cell_type": "markdown",
   "metadata": {},
   "source": [
    "### Traverse HNSW with Smina using 1 receptor"
   ]
  },
  {
   "cell_type": "code",
   "execution_count": 34,
   "metadata": {},
   "outputs": [],
   "source": [
    "scores_by_node = {}  # node_id -> docking score\n",
    "def score_fn(node_id):\n",
    "    start_all = time.perf_counter()\n",
    "\n",
    "    # 1) bounds check + get ligand ID\n",
    "    stage1_start = time.perf_counter()\n",
    "    if node_id < 0 or node_id >= len(id_to_zid):\n",
    "        return np.inf\n",
    "    ligand_id = id_to_zid[node_id]\n",
    "#     print(f\"[DEBUG] node_id={node_id} => ligand_id={ligand_id}\")\n",
    "    \n",
    "#     # Check if in big_index\n",
    "    if ligand_id not in big_index:\n",
    "#         print(f\"[DEBUG] {ligand_id} not in big_index.\")\n",
    "        return np.inf\n",
    "    smi = dudez_data[ligand_id]\n",
    "    mol2_path, offset = big_index[ligand_id]\n",
    "    stage1_end = time.perf_counter()\n",
    "#     print(f\"[DEBUG] Found offset={offset} in {mol2_path} for {ligand_id}\")\n",
    "\n",
    "    # 2) retrieve temp .mol2\n",
    "    stage2_start = time.perf_counter()\n",
    "    mol2_temp = retrieve_mol2_file(ligand_id, big_index)\n",
    "    stage2_end = time.perf_counter()\n",
    "    \n",
    "#     block = get_ligand_block(mol2_path, offset)\n",
    "    # Write and debug-print the block\n",
    "#     mol2_temp1 = write_block_to_temp_mol2(block, ligand_id)\n",
    "    if not mol2_temp:\n",
    "        # either not found or offset read failed\n",
    "        return np.inf\n",
    "\n",
    "    # 3) dock\n",
    "    stage3_start = time.perf_counter()\n",
    "    best_score,mol2_text = dock_with_smina(mol2_temp, receptor_pdb, reclig_pdb)\n",
    "    best_pose_output = os.path.join(radsmina_path(\"best_pose_output\"), f\"{ligand_id}_bestpose.mol2\")\n",
    "    with open(best_pose_output, \"w\") as f:\n",
    "        f.write(mol2_text)\n",
    "    stage3_end = time.perf_counter()\n",
    "    # remove the temp file\n",
    "    stage4_start = time.perf_counter()\n",
    "    os.remove(mol2_temp)\n",
    "    stage4_end = time.perf_counter()\n",
    "\n",
    "    if best_score is None:\n",
    "        print(f\"[DEBUG] dock_with_smina_mol2 returned None for {ligand_id}\")\n",
    "        return np.inf\n",
    "    \n",
    "    scores_by_node[ligand_id] = [node_id, smi, best_score]\n",
    "    end_all = time.perf_counter()\n",
    "    # Print or log times for debugging\n",
    "    stage1_time = stage1_end - stage1_start\n",
    "    stage2_time = stage2_end - stage2_start\n",
    "    stage3_time = stage3_end - stage3_start\n",
    "    stage4_time = stage4_end - stage4_start\n",
    "    total_time = end_all - start_all\n",
    "    \n",
    "    print(f\"[DEBUG] score_fn times for node {node_id}:\")\n",
    "    print(f\"  Stage 1 (big_index lookup): {stage1_time:.4f}s\")\n",
    "    print(f\"  Stage 2 (retrieve mol2): {stage2_time:.4f}s\")\n",
    "    print(f\"  Stage 3 (docking): {stage3_time:.4f}s\")\n",
    "    print(f\"  Stage 4 (cleanup): {stage4_time:.4f}s\")\n",
    "    print(f\"  TOTAL: {total_time:.4f}s\")\n",
    "    \n",
    "    return best_score"
   ]
  },
  {
   "cell_type": "code",
   "execution_count": null,
   "metadata": {},
   "outputs": [],
   "source": [
    "traversed_nodes = traverseHNSW(hnsw_layer_graphs, score_fn, NUM_TO_TRAVERSE)"
   ]
  },
  {
   "cell_type": "markdown",
   "metadata": {},
   "source": [
    "### Store the Smina docking socres"
   ]
  },
  {
   "cell_type": "code",
   "execution_count": null,
   "metadata": {},
   "outputs": [],
   "source": [
    "with open(\"zid_scores_rock1.json\", \"w\") as f:\n",
    "    json.dump(scores_by_node, f, indent=2)"
   ]
  }
 ],
 "metadata": {
  "kernelspec": {
   "display_name": "Python [conda env:rad1]",
   "language": "python",
   "name": "conda-env-rad1-py"
  },
  "language_info": {
   "codemirror_mode": {
    "name": "ipython",
    "version": 3
   },
   "file_extension": ".py",
   "mimetype": "text/x-python",
   "name": "python",
   "nbconvert_exporter": "python",
   "pygments_lexer": "ipython3",
   "version": "3.11.8"
  }
 },
 "nbformat": 4,
 "nbformat_minor": 2
}
