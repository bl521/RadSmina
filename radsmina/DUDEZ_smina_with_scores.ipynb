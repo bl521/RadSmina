{
 "cells": [
  {
   "cell_type": "code",
   "execution_count": 1,
   "metadata": {},
   "outputs": [
    {
     "name": "stderr",
     "output_type": "stream",
     "text": [
      "<frozen importlib._bootstrap>:241: RuntimeWarning: to-Python converter for std::vector<int, std::allocator<int> > already registered; second conversion method ignored.\n",
      "<frozen importlib._bootstrap>:241: RuntimeWarning: to-Python converter for std::vector<double, std::allocator<double> > already registered; second conversion method ignored.\n",
      "<frozen importlib._bootstrap>:241: RuntimeWarning: to-Python converter for std::vector<std::__cxx11::basic_string<char, std::char_traits<char>, std::allocator<char> >, std::allocator<std::__cxx11::basic_string<char, std::char_traits<char>, std::allocator<char> > > > already registered; second conversion method ignored.\n",
      "<frozen importlib._bootstrap>:241: RuntimeWarning: to-Python converter for std::vector<unsigned long, std::allocator<unsigned long> > already registered; second conversion method ignored.\n",
      "<frozen importlib._bootstrap>:241: RuntimeWarning: to-Python converter for std::vector<std::vector<double, std::allocator<double> >, std::allocator<std::vector<double, std::allocator<double> > > > already registered; second conversion method ignored.\n",
      "<frozen importlib._bootstrap>:241: RuntimeWarning: to-Python converter for boost::python::detail::container_element<std::vector<std::vector<double, std::allocator<double> >, std::allocator<std::vector<double, std::allocator<double> > > >, unsigned long, boost::python::detail::final_vector_derived_policies<std::vector<std::vector<double, std::allocator<double> >, std::allocator<std::vector<double, std::allocator<double> > > >, false> > already registered; second conversion method ignored.\n",
      "<frozen importlib._bootstrap>:241: RuntimeWarning: to-Python converter for std::pair<double, double> already registered; second conversion method ignored.\n"
     ]
    }
   ],
   "source": [
    "import pickle\n",
    "import sys\n",
    "import inspect\n",
    "import numpy as np\n",
    "import matplotlib.pyplot as plt\n",
    "from tqdm import tqdm\n",
    "from rdkit import Chem, DataStructs, RDLogger\n",
    "from rdkit.Chem import AllChem\n",
    "\n",
    "from rad.construction import getGraphs\n",
    "from rad.traversal import traverseHNSW\n",
    "from utils.paths import scores_path\n",
    "\n",
    "# Disable rdkit error logging to keep output clean\n",
    "RDLogger.DisableLog('rdApp.*') "
   ]
  },
  {
   "cell_type": "markdown",
   "metadata": {},
   "source": [
    "### Load the DUDEZ Goldilocks dataset"
   ]
  },
  {
   "cell_type": "code",
   "execution_count": 2,
   "metadata": {},
   "outputs": [],
   "source": [
    "input_pickle = \"goldilocks_smiles.pkl\"\n",
    "with open(input_pickle, 'rb') as f:\n",
    "    dudez_data = pickle.load(f)"
   ]
  },
  {
   "cell_type": "code",
   "execution_count": 3,
   "metadata": {},
   "outputs": [
    {
     "name": "stdout",
     "output_type": "stream",
     "text": [
      "Loaded 132884 molecules from goldilocks_smiles.pkl.\n"
     ]
    }
   ],
   "source": [
    "print(f\"Loaded {len(dudez_data)} molecules from {input_pickle}.\")"
   ]
  },
  {
   "cell_type": "markdown",
   "metadata": {},
   "source": [
    "### Shuffle the order of the dataset"
   ]
  },
  {
   "cell_type": "code",
   "execution_count": 4,
   "metadata": {},
   "outputs": [],
   "source": [
    "import random"
   ]
  },
  {
   "cell_type": "code",
   "execution_count": 5,
   "metadata": {},
   "outputs": [],
   "source": [
    "items = list(dudez_data.items())\n",
    "random.seed(42)\n",
    "random.shuffle(items)\n",
    "dudez_data = dict(items) # rebuilds dict in new order"
   ]
  },
  {
   "cell_type": "markdown",
   "metadata": {},
   "source": [
    "### Set parameters for fingerprints and generate them"
   ]
  },
  {
   "cell_type": "code",
   "execution_count": 6,
   "metadata": {},
   "outputs": [],
   "source": [
    "FP_LENGTH = 1024\n",
    "FP_RADIUS = 2"
   ]
  },
  {
   "cell_type": "code",
   "execution_count": 7,
   "metadata": {},
   "outputs": [],
   "source": [
    "failed_smiles = []  # List to store failed SMILES\n",
    "successful_count = 0  # Counter for successful molecules"
   ]
  },
  {
   "cell_type": "code",
   "execution_count": 8,
   "metadata": {},
   "outputs": [
    {
     "name": "stderr",
     "output_type": "stream",
     "text": [
      "Generating Fingeprints: 100%|██████████| 132884/132884 [00:27<00:00, 4792.02it/s]\n"
     ]
    },
    {
     "name": "stdout",
     "output_type": "stream",
     "text": [
      "Total SMILES processed: 132884\n",
      "Successful molecule generation: 132881\n",
      "Failed SMILES count: 3\n",
      "Failed SMILES examples: ['=C(NCC1=CC=CN=C1)[C@H]1[C@@H]2C[N@@H+](C[C@@H]3C[C@H]4C=C[C@@H]3C4)C[C@@H]21', '1=CC=C(CCC[N@@H+]2C[C@@H]3CC[C@H](C2)N(C[C@H]2[C@@H]4C[NH2+]C[C@H]24)C3)C=C1', '[C@H]2[C@H]3C=C[C@H](C3)[C@@H]2C(=O)N1NC1=CC=C([N+](=O)[O-])C=C1[N+](=O)[O-]']\n"
     ]
    }
   ],
   "source": [
    "dudez_fps = [] ## To store molecular fingerprints in a compact binary form (packed bits).\n",
    "node_id = 0 ## A unique identifier for each molecule (node).\n",
    "\n",
    "# Store a mapping from node_id -> zID\n",
    "id_to_zid = []\n",
    "\n",
    "for zid in tqdm(dudez_data, total=len(dudez_data), desc=\"Generating Fingeprints\"):\n",
    "    smi = dudez_data[zid] ## SMILES string for the molecule.\n",
    "\n",
    "    # Some smiles will fail molecule generation. We just skip them\n",
    "    mol = Chem.MolFromSmiles(smi) ## The RDKit library converts the SMILES string into a molecular object\n",
    "    if mol is None:\n",
    "        ## Log failed SMILES\n",
    "        failed_smiles.append(smi)\n",
    "        continue\n",
    "    \n",
    "    # If successful, process as usual\n",
    "    successful_count += 1\n",
    "    # Convert rdkit bit vect fingerprint to numpy array\n",
    "    arr = np.zeros((1,), dtype=np.uint8)\n",
    "    fp = AllChem.GetMorganFingerprintAsBitVect(mol, radius=FP_RADIUS, nBits=FP_LENGTH) ## Generate Molecular Fingerprints\n",
    "    DataStructs.ConvertToNumpyArray(fp, arr) ## Convert Morgan Fingerprints to NumPy Array\n",
    "\n",
    "    # IMPORTANT: Make sure to pack bit fingerprints - it vastly speeds up HNSW construction\n",
    "    dudez_fps.append(np.packbits(arr)) \n",
    "    ## Groups every 8 bits into a single byte.\n",
    "    ## Reduces the length of the array by a factor of 8 (e.g., from 1024 bits to 128 bytes).\n",
    "    \n",
    "    id_to_zid.append(zid) # Record that node_id corresponds to this zID\n",
    "    \n",
    "    node_id += 1 ## Every molecule gets a unique identifier\n",
    "\n",
    "dudez_fps = np.array(dudez_fps) ## Convert Fingerprints List to NumPy Array\n",
    "# Output results\n",
    "print(f\"Total SMILES processed: {len(dudez_data)}\")\n",
    "print(f\"Successful molecule generation: {successful_count}\")\n",
    "print(f\"Failed SMILES count: {len(failed_smiles)}\")\n",
    "print(\"Failed SMILES examples:\", failed_smiles[:10])  # Print a few failed SMILES"
   ]
  },
  {
   "cell_type": "markdown",
   "metadata": {},
   "source": [
    "### Set parameters for HNSW and construct it"
   ]
  },
  {
   "cell_type": "code",
   "execution_count": 10,
   "metadata": {},
   "outputs": [],
   "source": [
    "EF_CONSTRUCTION = 400 ## graph_quality\n",
    "M = 16 ## max_neighbours_node"
   ]
  },
  {
   "cell_type": "code",
   "execution_count": 11,
   "metadata": {},
   "outputs": [
    {
     "name": "stdout",
     "output_type": "stream",
     "text": [
      "HNSW Construction time: 23.752772569656372 seconds\n"
     ]
    },
    {
     "name": "stderr",
     "output_type": "stream",
     "text": [
      "Formatting hnswlib Neighbor Data: 132881it [00:00, 462359.43it/s]\n",
      "Constructing graph_tool graphs: 100%|█████████▉| 132376/132881 [00:02<00:00, 56287.04it/s]"
     ]
    },
    {
     "name": "stdout",
     "output_type": "stream",
     "text": [
      "Adding batch 0/0 to graphs\n"
     ]
    },
    {
     "name": "stderr",
     "output_type": "stream",
     "text": [
      "Constructing graph_tool graphs: 100%|██████████| 132881/132881 [00:05<00:00, 23178.67it/s]"
     ]
    },
    {
     "name": "stdout",
     "output_type": "stream",
     "text": [
      "Number of nodes in layer 0: 132881\n",
      "Number of nodes in layer 1: 8217\n",
      "Number of nodes in layer 2: 491\n",
      "Number of nodes in layer 3: 30\n",
      "Number of nodes in layer 4: 1\n"
     ]
    },
    {
     "name": "stderr",
     "output_type": "stream",
     "text": [
      "\n"
     ]
    }
   ],
   "source": [
    "hnsw_layer_graphs, hnsw_index = getGraphs(dudez_fps, ef_construction=EF_CONSTRUCTION, M=M)\n",
    "element_levels = hnsw_index[\"element_levels\"]\n",
    "max_level = hnsw_index[\"max_level\"]\n",
    "\n",
    "for lvl in range(max_level + 1):\n",
    "    num_nodes_in_layer = np.sum(element_levels >= lvl)\n",
    "    print(f\"Number of nodes in layer {lvl}: {num_nodes_in_layer}\")"
   ]
  },
  {
   "cell_type": "markdown",
   "metadata": {},
   "source": [
    "### Score_fn using docked scores"
   ]
  },
  {
   "cell_type": "code",
   "execution_count": 12,
   "metadata": {},
   "outputs": [],
   "source": [
    "import json"
   ]
  },
  {
   "cell_type": "code",
   "execution_count": 13,
   "metadata": {},
   "outputs": [],
   "source": [
    "NUM_TO_TRAVERSE = 10000 # Maximum number of molecules to score"
   ]
  },
  {
   "cell_type": "code",
   "execution_count": 14,
   "metadata": {},
   "outputs": [],
   "source": [
    "# 1) Load all JSON into one dictionary\n",
    "score_data = {}\n",
    "for i in range(7):\n",
    "    filename = scores_path(f\"goldilocks_scores{i}.json\")\n",
    "    with open(filename, \"r\") as f:\n",
    "        data = json.load(f)\n",
    "        # Each entry is like \"ZINC000170632481\": [\"CC(C)C1=...\", -7.6]\n",
    "        for zid, (smiles, score) in data.items():\n",
    "            score_data[zid] = (smiles, score)"
   ]
  },
  {
   "cell_type": "code",
   "execution_count": 15,
   "metadata": {},
   "outputs": [],
   "source": [
    "# 2) Define the score function\n",
    "scores_by_node = {}  # global or external dict to store node info\n",
    "def score_fn(node_id):\n",
    "    ligand_id = id_to_zid[node_id] \n",
    "    if ligand_id in score_data:\n",
    "        smiles, docking_score = score_data[ligand_id]\n",
    "        scores_by_node[ligand_id] = [node_id, smiles, docking_score]\n",
    "        return docking_score\n",
    "    else:\n",
    "        return np.inf"
   ]
  },
  {
   "cell_type": "code",
   "execution_count": 16,
   "metadata": {},
   "outputs": [
    {
     "name": "stderr",
     "output_type": "stream",
     "text": [
      "Initializing Traversal: 100%|██████████| 122912/122912 [00:00<00:00, 343798.94it/s]\n",
      "Traversing HNSW:  97%|█████████▋| 970/1000 [00:00<00:00, 344961.41it/s]\n"
     ]
    }
   ],
   "source": [
    "traversed_nodes = traverseHNSW(hnsw_layer_graphs, score_fn, NUM_TO_TRAVERSE)"
   ]
  },
  {
   "cell_type": "markdown",
   "metadata": {},
   "source": [
    "### Save the new traversed results"
   ]
  },
  {
   "cell_type": "code",
   "execution_count": 17,
   "metadata": {},
   "outputs": [],
   "source": [
    "with open(\"radsmina1krandom.json\", \"w\") as f:\n",
    "    json.dump(scores_by_node, f, indent=2)"
   ]
  }
 ],
 "metadata": {
  "kernelspec": {
   "display_name": "Python (rad1)",
   "language": "python",
   "name": "rad1"
  },
  "language_info": {
   "codemirror_mode": {
    "name": "ipython",
    "version": 3
   },
   "file_extension": ".py",
   "mimetype": "text/x-python",
   "name": "python",
   "nbconvert_exporter": "python",
   "pygments_lexer": "ipython3",
   "version": "3.11.8"
  }
 },
 "nbformat": 4,
 "nbformat_minor": 4
}
